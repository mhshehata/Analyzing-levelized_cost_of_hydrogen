{
 "cells": [
  {
   "cell_type": "markdown",
   "metadata": {},
   "source": [
    "# Electricity Market & Sector Coupling Project"
   ]
  },
  {
   "cell_type": "markdown",
   "metadata": {},
   "source": [
    "### Calculation of the Levelized Cost of Hydrogen Production from Natural Gas Steam Methane Reformer and Water Elecrolyser - Germany (Main Case)"
   ]
  },
  {
   "cell_type": "markdown",
   "metadata": {},
   "source": [
    "$Assumptions$ & $Parameters$"
   ]
  },
  {
   "cell_type": "code",
   "execution_count": 1,
   "metadata": {},
   "outputs": [],
   "source": [
    "q_H2 = 2e10                        #Amount of Hydrogen Required by 2030, kWh \n",
    "LHV = 33.33                        #Lower Heating Value, kWh/kg\n",
    "FLH = 4000                         #Full Load Hours, hr\n",
    "IC = q_H2/FLH                      #Installed Capacity, kW\n",
    "r = 0.08                           #Discount Rate \n",
    "t = 10                             #lifetime, yr\n",
    "CRF = (r*(1+r)**t)/(((1+r)**t)-1)  #Capital Recovery Factor"
   ]
  },
  {
   "cell_type": "markdown",
   "metadata": {},
   "source": [
    "$Natural$ $Gas$ & $Electricity$ $Prices$ $in$ $Germany$"
   ]
  },
  {
   "cell_type": "code",
   "execution_count": 2,
   "metadata": {},
   "outputs": [],
   "source": [
    "P_NG = 0.035       #Natural Gas Price, €/kWh\n",
    "P_Elect = 0.178    #Electricity Price, €/kWh"
   ]
  },
  {
   "cell_type": "markdown",
   "metadata": {},
   "source": [
    "$LCOH$  $Calculation$  $of$  $Steam$  $Methane$  $Reformer$  $(SMR)$"
   ]
  },
  {
   "cell_type": "code",
   "execution_count": 3,
   "metadata": {},
   "outputs": [],
   "source": [
    "Eff_SMR = 0.7                                  #Efficiency\n",
    "SIC_SMR = 530                                  #Specific Investment Cost, €/kW\n",
    "ko_SMR = SIC_SMR * IC                          #Total Caital Cost, €/a\n",
    "OM_SMR = 0.05 * ko_SMR                         #Operation & Maintenace Cost is assumed as 5% of the Total Capital Cost, €/a\n",
    "g_SMR = ko_SMR * CRF                           #Annual Capital Cost, €/a\n",
    "\n",
    "mc_SMR = P_NG / Eff_SMR                        #Marginal Cost, €/kWh\n",
    "LCOH_SMR = ((OM_SMR + g_SMR)/q_H2) + mc_SMR    #Levelized Cost of Hydrogen, €/kWh\n",
    "print(\"LCOH from SMR = \", round(LCOH_SMR*100, 1), \"cent€/kWh\")\n",
    "\n",
    "\n"
   ]
  },
  {
   "cell_type": "markdown",
   "metadata": {},
   "source": [
    "$LCOH$ $Calculation$ $of$ $Water$ $Electolyzer$"
   ]
  },
  {
   "cell_type": "code",
   "execution_count": 4,
   "metadata": {},
   "outputs": [
    {
     "name": "stdout",
     "output_type": "stream",
     "text": [
      "LCOH from Water Electrolyzer =  29.9 cent€/kWh\n"
     ]
    }
   ],
   "source": [
    "Eff_WE = 0.7                                 #Efficiency\n",
    "SIC_WE = 1000                                #Specific Investment Cost, €/kW\n",
    "ko_WE = SIC_WE * IC                          #Total Caital Cost, €/a\n",
    "OM_WE = 0.03 * ko_WE                         #Operation & Maintenace Cost is assumed as 3% of the Total Capital Cost, €/a\n",
    "g_WE = ko_WE * CRF                           #Annual Capital Cost, €/a\n",
    "\n",
    "mc_WE = P_Elect / Eff_WE                     #Marginal Cost, €/kWh\n",
    "LCOH_WE = ((OM_WE + g_WE)/q_H2) + mc_WE      #Levelized Cost of Hydrogen, €/kWh\n",
    "print(\"LCOH from Water Electrolyzer = \", round(LCOH_WE*100, 1), \"cent€/kWh\")"
   ]
  },
  {
   "cell_type": "markdown",
   "metadata": {},
   "source": [
    "### CO2 Emissions Calculation"
   ]
  },
  {
   "cell_type": "markdown",
   "metadata": {},
   "source": [
    "$CO2$ $Emissions$ $of$ $SMR$"
   ]
  },
  {
   "cell_type": "code",
   "execution_count": 5,
   "metadata": {},
   "outputs": [
    {
     "name": "stdout",
     "output_type": "stream",
     "text": [
      "Amount of CO2 Emissions from SMR is 5.8 MntCO2\n"
     ]
    }
   ],
   "source": [
    "EMF_NG = 0.202                       #CO2 Emission Factor of Natural Gas, kgCO2/kWh\n",
    "CO2_SMR = (EMF_NG / Eff_SMR) * q_H2  #Amount of CO2, kgCO2\n",
    "print(\"Amount of CO2 Emissions from SMR is\", round(CO2_SMR/1000000000, 1), \"MntCO2\")"
   ]
  },
  {
   "cell_type": "markdown",
   "metadata": {},
   "source": [
    "$CO2$ $Emissions$ $of$ $Water Electrolyzer$"
   ]
  },
  {
   "cell_type": "code",
   "execution_count": 6,
   "metadata": {},
   "outputs": [
    {
     "name": "stdout",
     "output_type": "stream",
     "text": [
      "Amount of CO2 Emissions from Water Electrolyzer is 11.5 MntCO2\n"
     ]
    }
   ],
   "source": [
    "EMF_Elec_mix = 0.401                   #CO2 Emission Factor of the Electricity Mix 2019, kgCO2/kWh\n",
    "CO2_WE = EMF_Elec_mix / Eff_WE * q_H2  #Amount of CO2, kgCO2\n",
    "print(\"Amount of CO2 Emissions from Water Electrolyzer is\", round(CO2_WE/1000000000, 1), \"MntCO2\")"
   ]
  },
  {
   "cell_type": "code",
   "execution_count": 7,
   "metadata": {},
   "outputs": [],
   "source": [
    "#Importing Required Packages\n",
    "import numpy as np\n",
    "import pandas as pd\n",
    "import matplotlib.pyplot as plt\n",
    "from sklearn.linear_model import LinearRegression"
   ]
  },
  {
   "cell_type": "code",
   "execution_count": 8,
   "metadata": {},
   "outputs": [
    {
     "name": "stdout",
     "output_type": "stream",
     "text": [
      "Price of CO2 Tax could be 0.775 €/kgCO2\n"
     ]
    }
   ],
   "source": [
    "#identifying the CO2 tax\n",
    "P_CO2 = 0\n",
    "while LCOH_SMR < LCOH_WE:\n",
    "    P_CO2 = P_CO2 + 0.025\n",
    "    mc_SMR = (P_NG/Eff_SMR) + (P_CO2*EMF_NG/Eff_SMR)\n",
    "    LCOH_SMR = ((OM_SMR + g_SMR)/q_H2) + mc_SMR\n",
    "    if LCOH_SMR >= LCOH_WE:\n",
    "        print(\"Price of CO2 Tax could be\", round(P_CO2, 3), \"€/kgCO2\")"
   ]
  },
  {
   "cell_type": "markdown",
   "metadata": {},
   "source": [
    "### Net Public Electricity Generation from Power Plants in Germany in 2019"
   ]
  },
  {
   "cell_type": "code",
   "execution_count": 9,
   "metadata": {},
   "outputs": [
    {
     "name": "stdout",
     "output_type": "stream",
     "text": [
      "   Year    EMF  Share_of_renew\n",
      "0  2017  0.485           0.382\n",
      "1  2018  0.468           0.406\n",
      "2  2019  0.401           0.460\n",
      "Share of Renewables is [63.89]%\n"
     ]
    }
   ],
   "source": [
    "#Share or Renewables = 46% \n",
    "\n",
    "#Development of the CO2 emission factor for the electricity mix in Germany from 2017 to 2019 with the corresponding share of renewables\n",
    "data= {\n",
    "    \"Year\":[2017, 2018, 2019],\n",
    "    \"EMF\":[0.485, 0.468, 0.401],\n",
    "    \"Share_of_renew\":[0.382, 0.406, 0.460]}\n",
    "df = pd.DataFrame (data, columns = ['Year','EMF','Share_of_renew'])\n",
    "print(df)\n",
    "\n",
    "x = np.array(df['EMF'])\n",
    "y = np.array(df['Share_of_renew'])\n",
    "x = x.reshape(-1,1)\n",
    "model = LinearRegression()\n",
    "model.fit(x, y)\n",
    "z=model.predict([[0.202]])\n",
    "print(\"Share of Renewables is \" + str(np.round(z*100, 2)) +\"%\")\n"
   ]
  },
  {
   "cell_type": "markdown",
   "metadata": {},
   "source": [
    "### Sensitivity Analysis"
   ]
  },
  {
   "cell_type": "code",
   "execution_count": 10,
   "metadata": {},
   "outputs": [
    {
     "name": "stdout",
     "output_type": "stream",
     "text": [
      "[6.88714073 7.13714073 7.38714073 7.63714073 7.88714073 8.13714073\n",
      " 8.38714073]\n"
     ]
    },
    {
     "data": {
      "image/png": "[encoded data removed]",
      "text/plain": [
       "<Figure size 504x504 with 1 Axes>"
      ]
     },
     "metadata": {
      "needs_background": "light"
     },
     "output_type": "display_data"
    }
   ],
   "source": [
    "#Effect of Change of Natural Gas Price on SMR LCOH\n",
    "i = np.arange(0.85,1.16,0.05)      #Percentage Change in Natural Gas Price\n",
    "NG_price_SA = P_NG * i\n",
    "\n",
    "mc_SMR = NG_price_SA / Eff_SMR                       \n",
    "LCOH_SMR = (((OM_SMR + g_SMR)/q_H2) + mc_SMR)*100\n",
    "\n",
    "j = np.arange(0,7,1)              \n",
    "z = (LCOH_SMR[j]-LCOH_SMR[3])/LCOH_SMR[3] #Percentage Change in SMR LCOH\n",
    "\n",
    "print(LCOH_SMR)\n",
    "\n",
    "fig, ax = plt.subplots(figsize=(7,7))\n",
    "width = 0.2\n",
    "Art = ('(-/+ 15%)','(-/+ 10%)','(-/= 05%)')\n",
    "y_pos = np.arange(len(Art))\n",
    "\n",
    "\n",
    "base = 7.63714073\n",
    "Pr = np.array([6.88714073, 7.13714073,  7.38714073])\n",
    "Pr_n = np.array([8.38714073, 8.13714073,  7.88714073])\n",
    "Pr_o = base\n",
    "ax.barh(y_pos, Pr-Pr_n, width, left = Pr_n , align = 'center', color = 'blue')\n",
    "\n",
    "ax.set_axisbelow(True)\n",
    "ax.xaxis.grid(color='#000000', linestyle='--', linewidth=0.5)\n",
    "ax.set_yticks(y_pos)\n",
    "ax.set_yticklabels(Art)\n",
    "ax.tick_params(axis='y',which='major',left='off')\n",
    "ax.invert_yaxis()\n",
    "ax.set_xlabel('LCOH [ct/kWh]')\n",
    "ax.set_ylabel('Change in Natural Gas Price')\n",
    "ax.set_title ('Sensitivity analysis')\n",
    "plt.axvline(base,color='black')\n",
    "plt.xlim(base-1, base+1)\n",
    "\n",
    "plt.show()"
   ]
  },
  {
   "cell_type": "code",
   "execution_count": 11,
   "metadata": {},
   "outputs": [
    {
     "name": "stdout",
     "output_type": "stream",
     "text": [
      "[26.09002293 27.3614515  28.63288007 29.90430865 31.17573722 32.44716579\n",
      " 33.71859436]\n"
     ]
    },
    {
     "data": {
      "image/png": "[encoded data removed]",
      "text/plain": [
       "<Figure size 504x504 with 1 Axes>"
      ]
     },
     "metadata": {
      "needs_background": "light"
     },
     "output_type": "display_data"
    }
   ],
   "source": [
    "#Effect of Change of Electricity Price on Electrolyzer LCOH\n",
    "i = np.arange(0.85,1.16,0.05)\n",
    "Elec_price_SA = P_Elect*i\n",
    "\n",
    "mc_WE = Elec_price_SA / Eff_WE                        #Marginal Cost, €/kWh\n",
    "LCOH_WE = (((OM_WE + g_WE)/q_H2) + mc_WE)*100\n",
    "\n",
    "j = np.arange(0,7,1)\n",
    "z = (LCOH_WE[j]-LCOH_WE[3])/LCOH_WE[3]\n",
    "\n",
    "print(LCOH_WE)\n",
    "\n",
    "fig, ax = plt.subplots(figsize=(7,7))\n",
    "width = 0.2\n",
    "Art = ('(-/+ 15%)','(-/+ 10%)','(-/= 05%)')\n",
    "y_pos = np.arange(len(Art))\n",
    "\n",
    "\n",
    "base = 29.904\n",
    "Pr = np.array([26.09002293, 27.3614515,  28.63288007])\n",
    "Pr_n = np.array([33.71859436, 32.44716579, 31.17573722])\n",
    "Pr_o = base\n",
    "ax.barh(y_pos, Pr-Pr_n, width, left = Pr_n , align = 'center', color = 'green')\n",
    "\n",
    "ax.set_axisbelow(True)\n",
    "ax.xaxis.grid(color='#000000', linestyle='--', linewidth=0.5)\n",
    "ax.set_yticks(y_pos)\n",
    "ax.set_yticklabels(Art)\n",
    "ax.tick_params(axis='y',which='major',left='off')\n",
    "ax.invert_yaxis()\n",
    "ax.set_xlabel('LCOH [ct/kWh]')\n",
    "ax.set_ylabel('Change in Electrcity Price')\n",
    "ax.set_title ('Sensitivity analysis')\n",
    "plt.axvline(base,color='black')\n",
    "plt.xlim(base-4, base+4)\n",
    "\n",
    "plt.show()"
   ]
  },
  {
   "cell_type": "code",
   "execution_count": 12,
   "metadata": {},
   "outputs": [
    {
     "name": "stdout",
     "output_type": "stream",
     "text": [
      "[28.11401376 28.56158748 29.0091612  29.45673492 29.90430865 30.35188237]\n"
     ]
    },
    {
     "data": {
      "image/png": "[encoded data removed]",
      "text/plain": [
       "<Figure size 504x504 with 1 Axes>"
      ]
     },
     "metadata": {
      "needs_background": "light"
     },
     "output_type": "display_data"
    }
   ],
   "source": [
    "#Effect of Change of Specific Investment Cost of Electrolyzer on LCOH\n",
    "i = np.arange(0.60,1.11,0.1)\n",
    "SIC_WE = 1000*i\n",
    "ko_WE = SIC_WE * IC                          #Total Caital Cost, €/a\n",
    "OM_WE = 0.03 * ko_WE                         #Operation & Maintenace Cost is assumed as 3% of the Total Capital Cost, €/a\n",
    "g_WE = ko_WE * CRF                           #Annual Capital Cost, €/a\n",
    "\n",
    "mc_WE = P_Elect / Eff_WE                        #Marginal Cost, €/kWh\n",
    "LCOH_WE = (((OM_WE + g_WE)/q_H2) + mc_WE)*100\n",
    "\n",
    "j = np.arange(0,6,1)\n",
    "z = np.round((LCOH_WE[j]-LCOH_WE[4])/LCOH_WE[4],2)\n",
    "\n",
    "print(LCOH_WE)\n",
    "\n",
    "fig, ax = plt.subplots(figsize=(7,7))\n",
    "width = 0.2\n",
    "Art = ('(-/+ 15%)','(-/+ 10%)','(-/= 05%)')\n",
    "y_pos = np.arange(len(Art))\n",
    "\n",
    "base = 29.23294806\n",
    "Pr = np.array([28.11401376, 28.56158748, 29.0091612])\n",
    "Pr_n = np.array([30.35188237, 29.90430865, 29.45673492])\n",
    "Pr_o = base\n",
    "ax.barh(y_pos, Pr-Pr_n, width, left = Pr_n , align = 'center', color = 'red')\n",
    "\n",
    "ax.set_axisbelow(True)\n",
    "ax.xaxis.grid(color='#000000', linestyle='--', linewidth=0.5)\n",
    "ax.set_yticks(y_pos)\n",
    "ax.set_yticklabels(Art)\n",
    "ax.tick_params(axis='y',which='major',left='off')\n",
    "ax.invert_yaxis()\n",
    "ax.set_xlabel('LCOH [ct/kWh]')\n",
    "ax.set_ylabel('Change in SIC for Electrolyzers')\n",
    "ax.set_title ('Sensitivity analysis')\n",
    "plt.axvline(base,color='black')\n",
    "plt.xlim(base-1.5, base+1.5)\n",
    "\n",
    "plt.show()"
   ]
  },
  {
   "cell_type": "code",
   "execution_count": null,
   "metadata": {},
   "outputs": [],
   "source": []
  }
 ],
 "metadata": {
  "kernelspec": {
   "display_name": "Python 3",
   "language": "python",
   "name": "python3"
  },
  "language_info": {
   "codemirror_mode": {
    "name": "ipython",
    "version": 3
   },
   "file_extension": ".py",
   "mimetype": "text/x-python",
   "name": "python",
   "nbconvert_exporter": "python",
   "pygments_lexer": "ipython3",
   "version": "3.8.5"
  }
 },
 "nbformat": 4,
 "nbformat_minor": 4
}
